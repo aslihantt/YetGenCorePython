{
 "cells": [
  {
   "attachments": {},
   "cell_type": "markdown",
   "metadata": {},
   "source": [
    "# Problem 1\n",
    "\n",
    "Şimdi beraber kullanıcılardan aldığımız verileri işleyerek, onlara hem çıktı verecek, hem de aldığımız ve hesapladığımız verileri ileride kullanabilmek adına kaydedeceğiz.\n",
    "\n",
    "\n",
    " **Bu bir veri giriş platformu olacak**\n",
    "\n",
    "\n",
    " * kullanıcıya kaç giriş yapacağını soracağız\n",
    "* kullanıcıdan isim-soyisim, yaş, boy, kilo bilgilerini alarak VKİ hesaplayacağız\n",
    "* ardından bunları sınıflara göre kaydedeceğiz bir dosyaya kaydedeceğiz\n",
    "\n",
    "\n",
    "Sınıflar ise şu şekilde: \n",
    "* 18, 5 kg/m.'nin altında olanlar: Zayıf\n",
    "* 18.5 – 24, 9 kg/m. arasında olanlar: Normal kilolu\n",
    "* 25 – 29, 9 kg/m. arasında olanlar: Fazla kilolu\n",
    "* 30 – 39, 9 kg/m. arasında olanlar: Obez\n",
    "* 40 kg/m.'nin üzerinde olanlar: İleri derecede obez (morbid obez), olarak görülür."
   ]
  },
  {
   "cell_type": "code",
   "execution_count": 17,
   "metadata": {},
   "outputs": [],
   "source": [
    "# 1.Problemin Çözümünü Buraya Yazınız\n",
    "veri_sayisi = int(input(\"Kac adet giris yapacaksiniz:\"))\n",
    "i=0\n",
    "people=[]\n",
    "\n",
    "class insan():\n",
    "    def __init__(self, isim, soyisim, kilo, boy, yas):\n",
    "        self.isim = isim\n",
    "        self.soyisim = soyisim\n",
    "        self.kilo = kilo\n",
    "        self.boy = boy\n",
    "        self.yas = yas\n",
    "        self.vki = self.bmi()\n",
    "        self.sinif = self.kategori()\n",
    "    def bmi(self):\n",
    "        return self.kilo / (self.boy**2)\n",
    "    def kategori(self):\n",
    "        if self.vki < 18.5:\n",
    "            return(\"Zayıf\")\n",
    "        elif self.vki < 25:\n",
    "            return(\"Normal kilolu\")\n",
    "        elif self.vki < 30:\n",
    "            return(\"Fazla kilolu\")\n",
    "        elif self.vki < 40:\n",
    "            return(\"Obez\")\n",
    "        else:\n",
    "            return(\"İleri derecede obez (morbid obez)\")\n",
    "while i < veri_sayisi:\n",
    "    isim= input(\"isim:\")\n",
    "    soyisim= input(\"soyisim\")\n",
    "    yas = int(input(\"yas\"))\n",
    "    kilo=float(input(\"kilo:\"))\n",
    "    boy=float(input(\"boy:\"))\n",
    "    person = insan(isim, soyisim, kilo, boy, yas)\n",
    "    people.append(person)\n",
    "    i+=1\n",
    "with open('veriler.txt','w') as f:\n",
    "    f.write('VKİ HESAPLAMA \\n')\n",
    "    for insan in people:\n",
    "        f.write(f\"isim:{insan.isim} soyisim={insan.soyisim} yas={insan.yas} boy={insan.boy} kilo={insan.kilo} vki = {insan.bmi()} kategori= {insan.kategori()}\\n\")\n",
    "\n"
   ]
  },
  {
   "attachments": {},
   "cell_type": "markdown",
   "metadata": {},
   "source": [
    "# Problem 2\n",
    "**YetBar - Smoothie Bank**\n",
    "---\n",
    "YetBar spor salonunun girişinde bulunan, insansız bir sağlıklı içecek otomatıdır. Kullanıcı çeşitli girdiler smoothie içeceğine koyacağı ürünleri belirleyebilir, fiyat hesaplaması yaptırabilir ya da sadece menüyü görüntüleyebilir.\n",
    "\n",
    "**Projenin Amacı:**\n",
    "\n",
    "*   Birbirini etkileyen ve bir kod içerisinde birden fazla defa başvurulacak fonksiyonların oluşturulup, \"fonksiyonel\" proglamlamak.\n",
    "*   Büyük programları yazarken, yazılımcı olarak yapabileceğimiz hatalardan kaçınmak için kontrol yöntemleri geliştirmek.\n",
    "*   Kullanıcı inputlarını ve yaptığımız hesapları, raporlamak/loglamak amacıyla kaydetmek.\n",
    "\n",
    "**Programdan Beklenen Çıktılar**\n",
    "* Program kullanıcıya temelde 2 farklı işlem yapma imkanı sağlar.\n",
    "> 1. Menüyü görüntüleme\n",
    "> 3. Satın alma\n",
    "* Satın alınan her içecek tarih, fiyat bilgisi ile kaydedilmeli ve her zaman ulaşılabilir olmalıdır.\n",
    "\n",
    "\n"
   ]
  },
  {
   "cell_type": "code",
   "execution_count": 4,
   "metadata": {},
   "outputs": [],
   "source": [
    "# 2.Problemin Çözümünü Buraya Yazınız\n",
    "from datetime import datetime\n",
    "def show_menu():\n",
    "    print(\"YetBar'a hoşgeldiniz\")\n",
    "    print(\"Lütfen smoothieniz için istediginiz ürünleri seciniz.\")\n",
    "    print(\"1: Çilek\")\n",
    "    print(\"2: Muz\")\n",
    "    print(\"3: Ispanak\")\n",
    "    print(\"4: Maydonoz\")\n",
    "    print(\"5: Cikolota\")\n",
    "def price_calculate(product_selection):\n",
    "    prices ={'1': 10, '2': 12, '3': 5, '4': 6, '5':14}\n",
    "    total_price = sum(prices[i] for i in product_selection)\n",
    "    return total_price\n",
    "def add_transaction_to_file(transaction):\n",
    "    with open('transactions.txt', mode='a') as file:\n",
    "        file.write(transaction)\n",
    "\n",
    "def buy_product():\n",
    "    product_selection = input(\"Lutfen istediginiz içerikleri aralarinda virgülle yaziniz.\")\n",
    "    product_selection=product_selection.split()\n",
    "    total_price= price_calculate(product_selection)\n",
    "    print(\"Toplam fiyat:\", total_price)\n",
    "    now= datetime.now()\n",
    "    transaction = f\"{now.strftime('%Y-%m-%d %H:%M:%S')}, {total_price:.2f}\\n\"\n",
    "    add_transaction_to_file(transaction)"
   ]
  }
 ],
 "metadata": {
  "kernelspec": {
   "display_name": "Python 3",
   "language": "python",
   "name": "python3"
  },
  "language_info": {
   "codemirror_mode": {
    "name": "ipython",
    "version": 3
   },
   "file_extension": ".py",
   "mimetype": "text/x-python",
   "name": "python",
   "nbconvert_exporter": "python",
   "pygments_lexer": "ipython3",
   "version": "3.9.13"
  },
  "orig_nbformat": 4,
  "vscode": {
   "interpreter": {
    "hash": "5026d2d6e7aaaaba093def813beadff083d8733e4a511af01735cbabd156995d"
   }
  }
 },
 "nbformat": 4,
 "nbformat_minor": 2
}
