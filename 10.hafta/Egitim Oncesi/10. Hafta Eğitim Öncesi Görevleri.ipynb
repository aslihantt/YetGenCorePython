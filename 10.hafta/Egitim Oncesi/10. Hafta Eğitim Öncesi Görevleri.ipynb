{
 "cells": [
  {
   "attachments": {},
   "cell_type": "markdown",
   "metadata": {},
   "source": [
    "# Problem 1"
   ]
  },
  {
   "cell_type": "code",
   "execution_count": 7,
   "metadata": {},
   "outputs": [
    {
     "name": "stdout",
     "output_type": "stream",
     "text": [
      "5\n",
      "(5, 1)\n"
     ]
    }
   ],
   "source": [
    "import numpy as np\n",
    "\n",
    "# 2 - 0 ile 10 arasında 5 sayıdan oluşan matris üretin\n",
    "matrix1 = np.array([1,4,3,6,7])\n",
    "\n",
    "# 3 - matris'in boyutunu öğrenin\n",
    "print(matrix1.size)\n",
    "# 4 - matris'i yeniden boyutlandırın\n",
    "matrix2=matrix1.reshape(5,1)\n",
    "# 5 - matris'in boyut sayısını öğrenin\n",
    "print(matrix2.shape)"
   ]
  },
  {
   "attachments": {},
   "cell_type": "markdown",
   "metadata": {},
   "source": [
    "# Problem 2"
   ]
  },
  {
   "cell_type": "code",
   "execution_count": 24,
   "metadata": {},
   "outputs": [
    {
     "name": "stdout",
     "output_type": "stream",
     "text": [
      "[array([1]), array([3]), array([5]), array([7]), array([9])]\n",
      "[1 3 5 7 9]\n"
     ]
    }
   ],
   "source": [
    "# 1 - 0 ile 10 (arasında bulunan tek sayılardan oluşan matris üretin\n",
    "matrix_new = np.arange(1, 11, 2)\n",
    "matrix_new.reshape(1,5)\n",
    "# 2 - Oluşturduğunuz matrisi parçalayın\n",
    "pieces = np.split(matrix_new,5,axis=0)\n",
    "print(pieces)\n",
    "# 3 - Parçalanmış matrisleri birleştirin\n",
    "merged_matrix = np.concatenate(pieces, axis=0)\n",
    "print(merged_matrix)\n"
   ]
  },
  {
   "attachments": {},
   "cell_type": "markdown",
   "metadata": {},
   "source": [
    "# Problem 3"
   ]
  },
  {
   "cell_type": "code",
   "execution_count": 26,
   "metadata": {},
   "outputs": [
    {
     "name": "stdout",
     "output_type": "stream",
     "text": [
      "[[47 53]\n",
      " [ 9 99]\n",
      " [51 89]\n",
      " [41 79]\n",
      " [55 11]]\n",
      "10\n",
      "(5, 2)\n",
      "2\n",
      "int32\n"
     ]
    }
   ],
   "source": [
    "# 1 - 5 ile 100 arasında ikişer ikişer atlayarak rastgele 10 sayıdan oluşan matris üretin\n",
    "matrix=np.random.choice(np.arange(5,101,2),size=(10),replace=False).reshape(5,2)\n",
    "print(matrix)\n",
    "\n",
    "# 2 - matris'in özelliklerini inceleyin\n",
    "print(matrix.size)\n",
    "print(matrix.shape)\n",
    "print(matrix.ndim)\n",
    "print(matrix.dtype)\n"
   ]
  }
 ],
 "metadata": {
  "kernelspec": {
   "display_name": "Python 3",
   "language": "python",
   "name": "python3"
  },
  "language_info": {
   "codemirror_mode": {
    "name": "ipython",
    "version": 3
   },
   "file_extension": ".py",
   "mimetype": "text/x-python",
   "name": "python",
   "nbconvert_exporter": "python",
   "pygments_lexer": "ipython3",
   "version": "3.9.13"
  },
  "orig_nbformat": 4,
  "vscode": {
   "interpreter": {
    "hash": "5026d2d6e7aaaaba093def813beadff083d8733e4a511af01735cbabd156995d"
   }
  }
 },
 "nbformat": 4,
 "nbformat_minor": 2
}
